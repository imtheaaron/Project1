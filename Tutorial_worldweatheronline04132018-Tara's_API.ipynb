{
 "cells": [
  {
   "cell_type": "code",
   "execution_count": 25,
   "metadata": {},
   "outputs": [],
   "source": [
    "\n",
    "import pandas\n",
    "import matplotlib.pyplot as plt\n",
    "import json\n",
    "import requests"
   ]
  },
  {
   "cell_type": "code",
   "execution_count": 26,
   "metadata": {},
   "outputs": [],
   "source": [
    "# Note. For monthly averages, only include the q, format, and key parameters.\n",
    "#Request URL = http://api.worldweatheronline.com/premium/v1/weather.ashx?key=xxxxxxxxxxxxx&q=48.85,2.35&num_of_days=2&tp=3&format=xml\n",
    "\n",
    "cities = [\"Berkeley\",\"Oakland\",\"Emeryville\"]\n",
    "api_key = \"42861775afa64821bac83523181404\"\n",
    "\n",
    "#url = \"http://api.worldweatheronline.com/premium/v1/weather.ashx?key=42861775afa64821bac83523181404&q=city&format=json\"\n",
    "#print(url)"
   ]
  },
  {
   "cell_type": "code",
   "execution_count": null,
   "metadata": {},
   "outputs": [],
   "source": []
  },
  {
   "cell_type": "code",
   "execution_count": 29,
   "metadata": {},
   "outputs": [
    {
     "name": "stdout",
     "output_type": "stream",
     "text": [
      "http://api.worldweatheronline.com/premium/v1/weather.ashx?key=42861775afa64821bac83523181404&q=Berkeley&format=json\n",
      "http://api.worldweatheronline.com/premium/v1/weather.ashx?key=42861775afa64821bac83523181404&q=Oakland&format=json\n",
      "http://api.worldweatheronline.com/premium/v1/weather.ashx?key=42861775afa64821bac83523181404&q=Emeryville&format=json\n"
     ]
    }
   ],
   "source": [
    "cities = [\"Berkeley\",\"Oakland\",\"Emeryville\"]\n",
    "for city in cities:\n",
    "    url = f\"http://api.worldweatheronline.com/premium/v1/weather.ashx?key=42861775afa64821bac83523181404&q={city}&format=json\"\n",
    "    response = requests.get(url).json()\n",
    "\n",
    "    print(url)"
   ]
  },
  {
   "cell_type": "code",
   "execution_count": 18,
   "metadata": {},
   "outputs": [
    {
     "data": {
      "text/plain": [
       "'07:45 PM'"
      ]
     },
     "execution_count": 18,
     "metadata": {},
     "output_type": "execute_result"
    }
   ],
   "source": []
  },
  {
   "cell_type": "code",
   "execution_count": null,
   "metadata": {},
   "outputs": [],
   "source": []
  }
 ],
 "metadata": {
  "kernelspec": {
   "display_name": "Python 3",
   "language": "python",
   "name": "python3"
  },
  "language_info": {
   "codemirror_mode": {
    "name": "ipython",
    "version": 3
   },
   "file_extension": ".py",
   "mimetype": "text/x-python",
   "name": "python",
   "nbconvert_exporter": "python",
   "pygments_lexer": "ipython3",
   "version": "3.6.4"
  },
  "varInspector": {
   "cols": {
    "lenName": 16,
    "lenType": 16,
    "lenVar": 40
   },
   "kernels_config": {
    "python": {
     "delete_cmd_postfix": "",
     "delete_cmd_prefix": "del ",
     "library": "var_list.py",
     "varRefreshCmd": "print(var_dic_list())"
    },
    "r": {
     "delete_cmd_postfix": ") ",
     "delete_cmd_prefix": "rm(",
     "library": "var_list.r",
     "varRefreshCmd": "cat(var_dic_list()) "
    }
   },
   "types_to_exclude": [
    "module",
    "function",
    "builtin_function_or_method",
    "instance",
    "_Feature"
   ],
   "window_display": false
  }
 },
 "nbformat": 4,
 "nbformat_minor": 2
}
