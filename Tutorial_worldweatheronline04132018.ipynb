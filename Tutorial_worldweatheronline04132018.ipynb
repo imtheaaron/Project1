{
 "cells": [
  {
   "cell_type": "code",
   "execution_count": 40,
   "metadata": {},
   "outputs": [],
   "source": [
    "\n",
    "import pandas\n",
    "import matplotlib.pyplot as plt\n",
    "import json\n",
    "import requests"
   ]
  },
  {
   "cell_type": "code",
   "execution_count": 41,
   "metadata": {},
   "outputs": [],
   "source": [
    "base_url = \"http://api.worldweatheronline.com/premium/v1/past-weather.ashx?format=json&q=\"\n",
    "cities = [\"Berkeley\",\"Oakland\",\"Emeryville\"]\n",
    "api_key = \"528c688f6049436981732700181204\"\n",
    "date = \"2017-02-01\"\n",
    "enddate= \"2017-02-28\"\n",
    "# query_url= base_url+city+\"&key=\"+api_key+\"&date=\"+date+\"&enddate=\"+enddate"
   ]
  },
  {
   "cell_type": "code",
   "execution_count": 42,
   "metadata": {},
   "outputs": [],
   "source": [
    "# query_url"
   ]
  },
  {
   "cell_type": "code",
   "execution_count": 44,
   "metadata": {},
   "outputs": [
    {
     "data": {
      "text/plain": [
       "84"
      ]
     },
     "execution_count": 44,
     "metadata": {},
     "output_type": "execute_result"
    }
   ],
   "source": [
    "sunset =[]\n",
    "for city in cities:\n",
    "    query_url= base_url+city+\"&key=\"+api_key+\"&date=\"+date+\"&enddate=\"+enddate\n",
    "    response = requests.get(query_url).json()\n",
    "    weather = response[\"data\"]['weather']\n",
    "    for day in weather:\n",
    "        sunset.append(day[\"astronomy\"][0][\"sunset\"])\n",
    "    \n",
    "len(sunset)"
   ]
  },
  {
   "cell_type": "code",
   "execution_count": 38,
   "metadata": {},
   "outputs": [
    {
     "data": {
      "text/plain": [
       "'06:34 PM'"
      ]
     },
     "execution_count": 38,
     "metadata": {},
     "output_type": "execute_result"
    }
   ],
   "source": [
    "response[\"data\"]['weather'][1][\"astronomy\"][0][\"sunset\"]"
   ]
  },
  {
   "cell_type": "code",
   "execution_count": null,
   "metadata": {},
   "outputs": [],
   "source": []
  }
 ],
 "metadata": {
  "kernelspec": {
   "display_name": "Python 3",
   "language": "python",
   "name": "python3"
  },
  "language_info": {
   "codemirror_mode": {
    "name": "ipython",
    "version": 3
   },
   "file_extension": ".py",
   "mimetype": "text/x-python",
   "name": "python",
   "nbconvert_exporter": "python",
   "pygments_lexer": "ipython3",
   "version": "3.6.4"
  },
  "varInspector": {
   "cols": {
    "lenName": 16,
    "lenType": 16,
    "lenVar": 40
   },
   "kernels_config": {
    "python": {
     "delete_cmd_postfix": "",
     "delete_cmd_prefix": "del ",
     "library": "var_list.py",
     "varRefreshCmd": "print(var_dic_list())"
    },
    "r": {
     "delete_cmd_postfix": ") ",
     "delete_cmd_prefix": "rm(",
     "library": "var_list.r",
     "varRefreshCmd": "cat(var_dic_list()) "
    }
   },
   "types_to_exclude": [
    "module",
    "function",
    "builtin_function_or_method",
    "instance",
    "_Feature"
   ],
   "window_display": false
  }
 },
 "nbformat": 4,
 "nbformat_minor": 2
}
